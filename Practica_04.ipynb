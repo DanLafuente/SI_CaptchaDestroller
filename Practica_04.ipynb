{
 "cells": [
  {
   "cell_type": "markdown",
   "id": "f3dbcf51",
   "metadata": {},
   "source": [
    "# Practica 4\n",
    "## Captcha Destroyer :por: Python Eaters\n",
    "#### - Hugo Vivanco Fernandez\n",
    "#### - Jaime Isar Muñoz\n",
    "#### - Daniel Lafuente Bazo\n",
    "#### - Óscar Fabián Pineda Germán\n",
    "\n"
   ]
  },
  {
   "cell_type": "markdown",
   "id": "ba692a31",
   "metadata": {},
   "source": [
    "## Parte 0: Tratamiento de imagenes\n",
    "Trabajamos con .png y tenemos que ser capaces de procesarlos"
   ]
  },
  {
   "cell_type": "code",
   "execution_count": null,
   "id": "a463814e",
   "metadata": {},
   "outputs": [],
   "source": [
    "from PIL import Image\n",
    "import os\n",
    "\n",
    "\n",
    "def imagen_a_matriz(ruta_imagen, umbral=128):\n",
    "\n",
    "    # Abre y convierte a escala de grises\n",
    "    imagen = Image.open(ruta_imagen)\n",
    "    \n",
    "    # Aplica umbral para binarizar (blanco o negro)\n",
    "    imagen_bn = imagen.point(lambda p: 255 if p > umbral else 0)\n",
    "    \n",
    "    ancho, alto = imagen_bn.size\n",
    "    pixeles = imagen_bn.load()\n",
    "    \n",
    "    matriz = []\n",
    "    for y in range(alto):\n",
    "        fila = []\n",
    "        for x in range(ancho):\n",
    "            pixel = pixeles[x, y]\n",
    "            valor = 1 if pixel == 0 else 0  # Negro -> 1, Blanco -> 0\n",
    "            fila.append(valor)\n",
    "        matriz.append(fila)\n",
    "    \n",
    "    return matriz\n",
    "\n",
    "def convertir_imagen(ruta_input, ruta_output, dimension=(200, 50)):\n",
    "\n",
    "    # Abrir imagen\n",
    "    imagen = Image.open(ruta_input)\n",
    "    \n",
    "    # Cambiar tamaño\n",
    "    imagen = imagen.resize(dimension)\n",
    "    \n",
    "    # Convertir a blanco y negro\n",
    "    imagen_bn = imagen.convert('L')  # 'L' es modo de 8 bits en escala de grises\n",
    "    \n",
    "    # Guardar la nueva imagen\n",
    "    imagen_bn.save(ruta_output)\n",
    "\n",
    "def mostrar_matriz(matriz, ancho=200, alto=50):\n",
    "    for c in range(0, alto):\n",
    "        for f in range(0, ancho):\n",
    "            print(matriz[c][f], end=\"\")\n",
    "        print('\\n')\n",
    "    print('\\n')\n",
    "\n",
    "# Convertir 'test' imagenes a blanco y negro y tamaño 200x50\n",
    "DEBUG = True\n",
    "test = 1\n",
    "directorio_input = 'samples/'\n",
    "directorio_output = 'samples_transform/'\n",
    "for nombre_archivo in os.listdir(directorio_input):\n",
    "\n",
    "    # Convertir todas las imagenes del directorio a blanco y negro y dimension establecidos\n",
    "    archivo_original = directorio_input + nombre_archivo\n",
    "    archivo_nuevo = directorio_output + nombre_archivo\n",
    "    convertir_imagen(archivo_original, archivo_nuevo)\n",
    "    matriz = imagen_a_matriz(archivo_nuevo)\n",
    " \n",
    "    if(DEBUG):\n",
    "        print(f\"Archivo antiguo: {archivo_original}\")\n",
    "        print(f\"Archivo nuevo: {archivo_nuevo}\\n\")\n",
    "        mostrar_matriz(matriz)\n",
    "\n",
    "    test = test - 1 # No petar el  PC\n",
    "    if(test == 0):\n",
    "        break"
   ]
  },
  {
   "cell_type": "markdown",
   "id": "830fb15e",
   "metadata": {},
   "source": [
    "## Parte 1: Reconocer un dígito o letra deformado\n",
    "\n",
    "Para empezar el proyecto decidimos ir paso a paso. Primero identificaremos numeros y letras de forma individual."
   ]
  },
  {
   "cell_type": "code",
   "execution_count": null,
   "id": "b777b3f8",
   "metadata": {},
   "outputs": [],
   "source": []
  },
  {
   "cell_type": "markdown",
   "id": "3f3ace36",
   "metadata": {},
   "source": [
    "## Parte 2: Reconocer una cadena de dígitos y letras bien separadas\n",
    "Ahora que sabemos identificar letras y números por separado podemos agruparlos bien separados en una cadena para leerlos y escribirlos en orden de aparición"
   ]
  },
  {
   "cell_type": "code",
   "execution_count": null,
   "id": "b6792f45",
   "metadata": {},
   "outputs": [],
   "source": []
  },
  {
   "cell_type": "markdown",
   "id": "827de68d",
   "metadata": {},
   "source": [
    "## Parte 3: Reconocer dígitos y letras que se juntan/mezclan\n",
    "Por último queda ser capaces de distinguir los números y letras que están solapados en la cadena para poder escribirlos"
   ]
  },
  {
   "cell_type": "code",
   "execution_count": null,
   "id": "fe1d7f52",
   "metadata": {},
   "outputs": [],
   "source": []
  }
 ],
 "metadata": {
  "kernelspec": {
   "display_name": ".venv",
   "language": "python",
   "name": "python3"
  },
  "language_info": {
   "codemirror_mode": {
    "name": "ipython",
    "version": 3
   },
   "file_extension": ".py",
   "mimetype": "text/x-python",
   "name": "python",
   "nbconvert_exporter": "python",
   "pygments_lexer": "ipython3",
   "version": "3.13.2"
  }
 },
 "nbformat": 4,
 "nbformat_minor": 5
}
