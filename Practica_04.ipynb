{
 "cells": [
  {
   "cell_type": "markdown",
   "id": "f3dbcf51",
   "metadata": {},
   "source": [
    "# Practica 4\n",
    "## Captcha Destroyer hecho por: Python Haters\n",
    "#### - Hugo Vivanco Fernandez\n",
    "#### - Jaime Isar Muñoz\n",
    "#### - Daniel Lafuente Bazo\n",
    "#### - Óscar Fabián Pineda Germán"
   ]
  },
  {
   "cell_type": "markdown",
   "id": "0155ab25",
   "metadata": {},
   "source": [
    "# Import\n"
   ]
  },
  {
   "cell_type": "code",
   "execution_count": null,
   "id": "e6191073",
   "metadata": {},
   "outputs": [],
   "source": [
    "import string\n",
    "from tensorflow.keras import layers\n",
    "from PIL import Image\n",
    "import numpy as np\n",
    "import string\n",
    "import os"
   ]
  },
  {
   "cell_type": "markdown",
   "id": "ba692a31",
   "metadata": {},
   "source": [
    "## Parte 0: Tratamiento de imagenes\n",
    "Trabajamos con .png y tenemos que ser capaces de procesarlos, para esto usaremos PIL"
   ]
  },
  {
   "cell_type": "markdown",
   "id": "30e9658d",
   "metadata": {},
   "source": [
    "Cogemos la direcion de nuestro dataset"
   ]
  },
  {
   "cell_type": "code",
   "execution_count": null,
   "id": "ea207740",
   "metadata": {},
   "outputs": [],
   "source": [
    "directorio_input = 'samples/'\n",
    "directorio_output = 'samples_transform/'\n",
    "\n",
    "# Definimos el tamanio de nuestras imagenes\n",
    "imgshape=(50,200,1) #50-alto, 200-ancho, 1-nym canales"
   ]
  },
  {
   "cell_type": "markdown",
   "id": "dab06989",
   "metadata": {},
   "source": [
    "Primero necesitamos saber cuales son los caracteres que nos podemos encontrar en los 'catcha' y, ya que estamos, la cantidad de caracteres que son."
   ]
  },
  {
   "cell_type": "code",
   "execution_count": null,
   "id": "af1be6ea",
   "metadata": {},
   "outputs": [],
   "source": [
    "symbols = string.ascii_lowercase + \"0123456789\" # All symbols captcha can contain\n",
    "numChar = len(symbols) # numero de chars posibles"
   ]
  },
  {
   "cell_type": "markdown",
   "id": "4dbd5726",
   "metadata": {},
   "source": [
    "Segundo escalaremos las imagenes a 200 de ancho y 50 de alto"
   ]
  },
  {
   "cell_type": "code",
   "execution_count": null,
   "id": "22db855c",
   "metadata": {},
   "outputs": [],
   "source": [
    "def convertir_imagen(ruta_input, ruta_output, dimension=(200, 50)):\n",
    "\n",
    "    # Abrir imagen\n",
    "    imagen = Image.open(ruta_input)\n",
    "    \n",
    "    # Cambiar tamaño\n",
    "    imagen = imagen.resize(dimension)\n",
    "    \n",
    "    # Convertir a blanco y negro\n",
    "    imagen_bn = imagen.convert('L')  # 'L' es modo de 8 bits en escala de grises\n",
    "    \n",
    "    # Guardar la nueva imagen\n",
    "    imagen_bn.save(ruta_output)"
   ]
  },
  {
   "cell_type": "markdown",
   "id": "73bcd0f7",
   "metadata": {},
   "source": [
    "Ahora convertinemos las imagenes en matrices de 0 y 1, es decir en Blanco = 0 y negro = 1"
   ]
  },
  {
   "cell_type": "code",
   "execution_count": null,
   "id": "f7a18930",
   "metadata": {},
   "outputs": [],
   "source": [
    "def imagen_a_matriz(ruta_imagen, umbral=128):\n",
    "\n",
    "    # Abre y convierte a escala de grises\n",
    "    imagen = Image.open(ruta_imagen)\n",
    "    \n",
    "    # Aplica umbral para binarizar (blanco o negro)\n",
    "    imagen_bn = imagen.point(lambda p: 255 if p > umbral else 0)\n",
    "    \n",
    "    ancho, alto = imagen_bn.size\n",
    "    pixeles = imagen_bn.load()\n",
    "    \n",
    "    matriz = []\n",
    "    for y in range(alto):\n",
    "        fila = []\n",
    "        for x in range(ancho):\n",
    "            pixel = pixeles[x, y]\n",
    "            valor = 1 if pixel == 0 else 0  # Negro -> 1, Blanco -> 0\n",
    "            fila.append(valor)\n",
    "        matriz.append(fila)\n",
    "    \n",
    "    return matriz"
   ]
  },
  {
   "cell_type": "markdown",
   "id": "bd240b3e",
   "metadata": {},
   "source": [
    "Por ultimo, sabemos que el nombre de la imagen es la solucion del catchap, asique ya lo guardaremos los targets"
   ]
  },
  {
   "cell_type": "code",
   "execution_count": null,
   "id": "9c19380b",
   "metadata": {},
   "outputs": [],
   "source": [
    "def getTargets():\n",
    "    \n",
    "    letersImg_array = np.zeros((5, ,numChar)) # 5 (letras de catchap) * n = 1070 (tamanio del dataset ) * 36 (posibles caracteres)  (con todas las entradas a 0)\n",
    "\n",
    "    for i, pic in enumerate(os.listdir(directorio_input)):\n",
    "    # i : indice en el que se encuentra la imagen en el directorio (0-(n-1))->(n)\n",
    "    # pic : contiene el nombre de la imagen en posicion i, que es equivalente a la solucion del catchap + .png\n",
    "       \n",
    "        pic_target = pic[:-4]# guardamos el objetimo (solucion del catchap), que es quivalente a el nombre - .png (.png = 4bits => -4)\n",
    "\n",
    "        if len(pic_target) < 6: #solo captcha de 5 letras o menos\n",
    "\n",
    "            target=np.zeros((5,numChar)) #5 (letras de catchap) * 36 (posibles caracteres)  (con todas las entradas a 0) = (ej: 0:0,0,....(36),0; 0:0,0,...)\n",
    "\n",
    "            for j, k in enumerate(pic_target):\n",
    "            # j : indice en el que se encuentra la palabra (0-4)->(5)\n",
    "            # k : letra correspondiente a la pos j\n",
    "                indexSymbol = symbols.find(k) # indexSymbol guarda la pos de la letra k, respecto al array de  symbols\n",
    "                target[j, indexSymbol] = 1 # en la posicion j : remplazo en la pos index el 0 por un 1 (ej: en la pos j esta la letra m)\n",
    "\n",
    "            letersImg_array[:,i] = target # guardo el target (solucion) en pos i\n",
    "\n",
    "    return letersImg_array"
   ]
  },
  {
   "cell_type": "markdown",
   "id": "848b9f63",
   "metadata": {},
   "source": [
    "Definimos una funcion auxiliar para mostrar matriz, para depurar"
   ]
  },
  {
   "cell_type": "code",
   "execution_count": null,
   "id": "4abc702a",
   "metadata": {},
   "outputs": [],
   "source": [
    "def mostrar_matriz(matriz, ancho=200, alto=50):\n",
    "    for c in range(0, alto):\n",
    "        for f in range(0, ancho):\n",
    "            print(matriz[c][f], end=\"\")\n",
    "        print('\\n')\n",
    "    print('\\n')\n"
   ]
  },
  {
   "cell_type": "markdown",
   "id": "d2fd47a6",
   "metadata": {},
   "source": []
  },
  {
   "cell_type": "code",
   "execution_count": null,
   "id": "a463814e",
   "metadata": {},
   "outputs": [],
   "source": [
    "\n",
    "# Convertir 'test' imagenes a blanco y negro y tamaño 200x50\n",
    "DEBUG = True\n",
    "test = 1\n",
    "\n",
    "for nombre_archivo in os.listdir(directorio_input):\n",
    "\n",
    "    # Convertir todas las imagenes del directorio a blanco y negro y dimension establecidos\n",
    "    archivo_original = directorio_input + nombre_archivo\n",
    "    archivo_nuevo = directorio_output + nombre_archivo\n",
    "    convertir_imagen(archivo_original, archivo_nuevo)\n",
    "    matriz = imagen_a_matriz(archivo_nuevo)\n",
    " \n",
    "    if(DEBUG):\n",
    "        print(f\"Archivo antiguo: {archivo_original}\")\n",
    "        print(f\"Archivo nuevo: {archivo_nuevo}\\n\")\n",
    "        mostrar_matriz(matriz)\n",
    "\n",
    "    test = test - 1 # No petar el  PC\n",
    "    if(test == 0):\n",
    "        break"
   ]
  },
  {
   "cell_type": "markdown",
   "id": "830fb15e",
   "metadata": {},
   "source": [
    "## Parte 1: Reconocer un dígito o letra deformado\n",
    "\n",
    "Para empezar el proyecto decidimos ir paso a paso. Primero identificaremos numeros y letras de forma individual. (logic CNN)"
   ]
  },
  {
   "cell_type": "code",
   "execution_count": null,
   "id": "b777b3f8",
   "metadata": {},
   "outputs": [],
   "source": [
    "#create model\n",
    "def createmodel():\n",
    "    img = layers.Input(shape=imgshape) # Get image as an input of size 50,200,1\n",
    "    conv1 = layers.Conv2D(16, (3, 3), padding='same', activation='relu')(img) #50*200\n",
    "    mp1 = layers.MaxPooling2D(padding='same')(conv1)  # 25*100\n",
    "    conv2 = layers.Conv2D(32, (3, 3), padding='same', activation='relu')(mp1)\n",
    "    mp2 = layers.MaxPooling2D(padding='same')(conv2)  # 13*50\n",
    "    conv3 = layers.Conv2D(32, (3, 3), padding='same', activation='relu')(mp2)\n",
    "    bn = layers.BatchNormalization()(conv3) #to improve the stability of model\n",
    "    mp3 = layers.MaxPooling2D(padding='same')(bn)  # 7*25\n",
    "    \n",
    "    flat = layers.Flatten()(mp3) #convert the layer into 1-D\n",
    "\n",
    "    outs = []\n",
    "    for _ in range(5): #for 5 letters of captcha\n",
    "        dens1 = layers.Dense(64, activation='relu')(flat)\n",
    "        drop = layers.Dropout(0.5)(dens1) #drops 0.5 fraction of nodes\n",
    "        res = layers.Dense(nchar, activation='sigmoid')(drop)\n",
    "\n",
    "        outs.append(res) #result of layers\n",
    "    \n",
    "    # Compile model and return it\n",
    "    model = Model(img, outs) #create model\n",
    "    model.compile(loss='categorical_crossentropy', optimizer='adam',metrics=[\"accuracy\"])\n",
    "    return model"
   ]
  },
  {
   "cell_type": "markdown",
   "id": "3f3ace36",
   "metadata": {},
   "source": [
    "## Parte 2: Reconocer una cadena de dígitos y letras bien separadas\n",
    "Ahora que sabemos identificar letras y números por separado podemos agruparlos bien separados en una cadena para leerlos y escribirlos en orden de aparición. (logic RNN)"
   ]
  },
  {
   "cell_type": "code",
   "execution_count": null,
   "id": "b6792f45",
   "metadata": {},
   "outputs": [],
   "source": []
  },
  {
   "cell_type": "markdown",
   "id": "827de68d",
   "metadata": {},
   "source": [
    "## Parte 3: Reconocer dígitos y letras que se juntan/mezclan\n",
    "Por último queda ser capaces de distinguir los números y letras que están solapados en la cadena para poder escribirlos (CRNN = CNN + RNN)"
   ]
  },
  {
   "cell_type": "code",
   "execution_count": null,
   "id": "fe1d7f52",
   "metadata": {},
   "outputs": [],
   "source": []
  }
 ],
 "metadata": {
  "kernelspec": {
   "display_name": "Python 3",
   "language": "python",
   "name": "python3"
  },
  "language_info": {
   "codemirror_mode": {
    "name": "ipython",
    "version": 3
   },
   "file_extension": ".py",
   "mimetype": "text/x-python",
   "name": "python",
   "nbconvert_exporter": "python",
   "pygments_lexer": "ipython3",
   "version": "3.11.0"
  }
 },
 "nbformat": 4,
 "nbformat_minor": 5
}
