{
 "cells": [
  {
   "cell_type": "markdown",
   "id": "f3dbcf51",
   "metadata": {},
   "source": [
    "# Practica 4\n",
    "## Captcha Destroyer :por: Python Eaters\n",
    "#### - Hugo Vivanco Fernandez\n",
    "#### - Jaime Isar Muñoz\n",
    "#### - Daniel Lafuente Bazo\n",
    "#### - Óscar Fabián Pineda Germán\n",
    "\n"
   ]
  },
  {
   "cell_type": "markdown",
   "id": "ba692a31",
   "metadata": {},
   "source": [
    "## Parte 0: Tratamiento de imagenes\n",
    "Trabajamos con .png y tenemos que ser capaces de procesarlos"
   ]
  },
  {
   "cell_type": "code",
   "execution_count": null,
   "id": "a463814e",
   "metadata": {},
   "outputs": [],
   "source": []
  },
  {
   "cell_type": "markdown",
   "id": "830fb15e",
   "metadata": {},
   "source": [
    "## Parte 1: Reconocer un dígito o letra deformado\n",
    "\n",
    "Para empezar el proyecto decidimos ir paso a paso. Primero identificaremos numeros y letras de forma individual."
   ]
  },
  {
   "cell_type": "code",
   "execution_count": null,
   "id": "b777b3f8",
   "metadata": {},
   "outputs": [],
   "source": []
  },
  {
   "cell_type": "markdown",
   "id": "3f3ace36",
   "metadata": {},
   "source": [
    "## Parte 2: Reconocer una cadena de dígitos y letras bien separadas\n",
    "Ahora que sabemos identificar letras y números por separado podemos agruparlos bien separados en una cadena para leerlos y escribirlos en orden de aparición"
   ]
  },
  {
   "cell_type": "code",
   "execution_count": null,
   "id": "b6792f45",
   "metadata": {},
   "outputs": [],
   "source": []
  },
  {
   "cell_type": "markdown",
   "id": "827de68d",
   "metadata": {},
   "source": [
    "## Parte 3: Reconocer dígitos y letras que se juntan/mezclan\n",
    "Por último queda ser capaces de distinguir los números y letras que están solapados en la cadena para poder escribirlos"
   ]
  },
  {
   "cell_type": "code",
   "execution_count": null,
   "id": "fe1d7f52",
   "metadata": {},
   "outputs": [],
   "source": []
  }
 ],
 "metadata": {
  "language_info": {
   "name": "python"
  }
 },
 "nbformat": 4,
 "nbformat_minor": 5
}
