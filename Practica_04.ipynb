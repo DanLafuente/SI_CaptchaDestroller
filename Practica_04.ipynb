{
 "cells": [
  {
   "cell_type": "markdown",
   "id": "f3dbcf51",
   "metadata": {},
   "source": [
    "# Practica 4\n",
    "## Captcha Destroyer :por: Python Eaters\n",
    "#### - Hugo Vivanco Fernandez\n",
    "#### - Jaime Isar Muñoz\n",
    "#### - Daniel Lafuente Bazo\n",
    "#### - Óscar Fabián Pineda Germán"
   ]
  },
  {
   "cell_type": "markdown",
   "id": "0155ab25",
   "metadata": {},
   "source": [
    "## Import\n"
   ]
  },
  {
   "cell_type": "code",
   "execution_count": null,
   "id": "e6191073",
   "metadata": {},
   "outputs": [],
   "source": [
    "import string\n",
    "\n",
    "import os\n",
    "import numpy as np \n",
    "import cv2 #OpenCV"
   ]
  },
  {
   "cell_type": "markdown",
   "id": "ba692a31",
   "metadata": {},
   "source": [
    "## Parte 0: Tratamiento de imagenes\n",
    "Trabajamos con .png y tenemos que ser capaces de procesarlos, para esto usaremos cv2 (OpenCV)"
   ]
  },
  {
   "cell_type": "markdown",
   "id": "dab06989",
   "metadata": {},
   "source": [
    "Primero necesitamos saber cuales son los caracteres que nos podemos encontrar en los 'catcha' y, ya que estamos, la cantidad de caracteres que son."
   ]
  },
  {
   "cell_type": "code",
   "execution_count": null,
   "id": "a463814e",
   "metadata": {},
   "outputs": [],
   "source": [
    "#total no of images in dataset\n",
    "direccion_examples = \"C:\\Users\\NITROPC\\OneDrive\\Escritorio\\Daniel\\Trabajo\\Universidad\\4º Año\\2ºCuatri\\SI\\Practica 4\\SI_CaptchaDestroller\\samples\"\n",
    "n = len(os.listdir(direccion_examples))\n",
    "n\n",
    "\n",
    "\n",
    "symbols = string.ascii_lowercase + \"0123456789\" # All symbols captcha can contain\n",
    "numChar = len(symbols) # Total number of char possible\n",
    "numChar"
   ]
  },
  {
   "cell_type": "markdown",
   "id": "62e506fe",
   "metadata": {},
   "source": [
    "Despues queremos preprocesar las imagenes con las que estemos trabajando, para asegurarnos que todas tengan el mismo formato y dimensiones."
   ]
  },
  {
   "cell_type": "code",
   "execution_count": null,
   "id": "b3ee0a0d",
   "metadata": {},
   "outputs": [],
   "source": [
    "def preprocesar_img():\n",
    "    img_array = np.zeros((n,50,200,1)) #1070*50*200 array with all entries 0\n",
    "    letersImg_array = np.zeros((5,n,numChar)) #5*1070*36(5 letters in captcha) with all entries 0\n",
    "\n",
    "    "
   ]
  },
  {
   "cell_type": "markdown",
   "id": "830fb15e",
   "metadata": {},
   "source": [
    "## Parte 1: Reconocer un dígito o letra deformado\n",
    "\n",
    "Para empezar el proyecto decidimos ir paso a paso. Primero identificaremos numeros y letras de forma individual. (logic CNN)"
   ]
  },
  {
   "cell_type": "code",
   "execution_count": null,
   "id": "b777b3f8",
   "metadata": {},
   "outputs": [],
   "source": []
  },
  {
   "cell_type": "markdown",
   "id": "3f3ace36",
   "metadata": {},
   "source": [
    "## Parte 2: Reconocer una cadena de dígitos y letras bien separadas\n",
    "Ahora que sabemos identificar letras y números por separado podemos agruparlos bien separados en una cadena para leerlos y escribirlos en orden de aparición. (logic RNN)"
   ]
  },
  {
   "cell_type": "code",
   "execution_count": null,
   "id": "b6792f45",
   "metadata": {},
   "outputs": [],
   "source": []
  },
  {
   "cell_type": "markdown",
   "id": "827de68d",
   "metadata": {},
   "source": [
    "## Parte 3: Reconocer dígitos y letras que se juntan/mezclan\n",
    "Por último queda ser capaces de distinguir los números y letras que están solapados en la cadena para poder escribirlos (CRNN = CNN + RNN)"
   ]
  },
  {
   "cell_type": "code",
   "execution_count": null,
   "id": "fe1d7f52",
   "metadata": {},
   "outputs": [],
   "source": []
  }
 ],
 "metadata": {
  "language_info": {
   "name": "python"
  }
 },
 "nbformat": 4,
 "nbformat_minor": 5
}
